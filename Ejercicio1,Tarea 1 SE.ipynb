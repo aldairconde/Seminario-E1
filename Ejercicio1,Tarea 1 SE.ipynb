{
 "cells": [
  {
   "cell_type": "markdown",
   "id": "ad204fbc",
   "metadata": {},
   "source": [
    "Ejercicio 1"
   ]
  },
  {
   "cell_type": "code",
   "execution_count": 15,
   "id": "eb9d4dbf",
   "metadata": {},
   "outputs": [],
   "source": [
    "import pandas as pd\n",
    "import numpy as np\n",
    "\n",
    "\n",
    "datos_ext='base_ini_externa.txt'\n",
    "datos_int='base_ini_interna.csv'\n",
    "datos_pt1='base_ini_parte1.csv'\n",
    "datos_comp3='base_comportamiento_3.csv'\n",
    "datos_comp2='base_comportamiento_2.txt'\n",
    "datos_inicio='bd_inicio_parte1.txt'\n",
    "datos_inv='base_inversion.txt'\n",
    "\n",
    "b_comp3=pd.read_csv(datos_comp3)\n",
    "b_comp2=pd.read_csv(datos_comp2,delimiter=' ')\n",
    "b_inicio=pd.read_csv(datos_inicio,delimiter=' ')\n",
    "b_int=pd.read_csv(datos_int)\n",
    "b_ext=pd.read_csv(datos_ext,delimiter=' ')\n",
    "b_pt1=pd.read_csv(datos_pt1)\n",
    "b_inv=pd.read_csv(datos_inv,delimiter=' ')\n",
    "\n",
    "\n",
    "#print(b_comp3.head(2))\n",
    "#print(b_comp2.head(2))\n",
    "#print(b_inicio.head(2),'\\n',b_int.head(2),'\\n',b_ext.head(2),'\\n',b_pt1.head(2),'\\n',b_inv.head(2))\n"
   ]
  },
  {
   "cell_type": "markdown",
   "id": "ea2b299a",
   "metadata": {},
   "source": [
    "unir las bases de las variables"
   ]
  },
  {
   "cell_type": "code",
   "execution_count": 16,
   "id": "a533211e",
   "metadata": {},
   "outputs": [
    {
     "data": {
      "text/html": [
       "<div>\n",
       "<style scoped>\n",
       "    .dataframe tbody tr th:only-of-type {\n",
       "        vertical-align: middle;\n",
       "    }\n",
       "\n",
       "    .dataframe tbody tr th {\n",
       "        vertical-align: top;\n",
       "    }\n",
       "\n",
       "    .dataframe thead th {\n",
       "        text-align: right;\n",
       "    }\n",
       "</style>\n",
       "<table border=\"1\" class=\"dataframe\">\n",
       "  <thead>\n",
       "    <tr style=\"text-align: right;\">\n",
       "      <th></th>\n",
       "      <th>_id_</th>\n",
       "      <th>comp_interno4_x</th>\n",
       "      <th>fecha_inicio</th>\n",
       "      <th>comp_interno1</th>\n",
       "      <th>comp_interno2</th>\n",
       "      <th>comp_interno3</th>\n",
       "      <th>comp_interno4_y</th>\n",
       "      <th>categoria1</th>\n",
       "      <th>categoria2</th>\n",
       "      <th>categoria3</th>\n",
       "      <th>comp_externo1</th>\n",
       "      <th>comp_externo2</th>\n",
       "      <th>comp_externo3</th>\n",
       "      <th>comp_externo4</th>\n",
       "      <th>_id2_</th>\n",
       "      <th>comp_mixto1</th>\n",
       "      <th>inversion</th>\n",
       "    </tr>\n",
       "    <tr>\n",
       "      <th>num_caso</th>\n",
       "      <th></th>\n",
       "      <th></th>\n",
       "      <th></th>\n",
       "      <th></th>\n",
       "      <th></th>\n",
       "      <th></th>\n",
       "      <th></th>\n",
       "      <th></th>\n",
       "      <th></th>\n",
       "      <th></th>\n",
       "      <th></th>\n",
       "      <th></th>\n",
       "      <th></th>\n",
       "      <th></th>\n",
       "      <th></th>\n",
       "      <th></th>\n",
       "      <th></th>\n",
       "    </tr>\n",
       "  </thead>\n",
       "  <tbody>\n",
       "    <tr>\n",
       "      <th>1</th>\n",
       "      <td>1</td>\n",
       "      <td>67.0</td>\n",
       "      <td>2016-03-31</td>\n",
       "      <td>3039.513678</td>\n",
       "      <td>b'1'</td>\n",
       "      <td>26.0</td>\n",
       "      <td>67.0</td>\n",
       "      <td>3.0</td>\n",
       "      <td>3.0</td>\n",
       "      <td>171.0</td>\n",
       "      <td>217.391304</td>\n",
       "      <td>21.545533</td>\n",
       "      <td>102.0</td>\n",
       "      <td>-230.0</td>\n",
       "      <td>23</td>\n",
       "      <td>0.3800</td>\n",
       "      <td>52.50049</td>\n",
       "    </tr>\n",
       "    <tr>\n",
       "      <th>7</th>\n",
       "      <td>7</td>\n",
       "      <td>75.0</td>\n",
       "      <td>2016-01-19</td>\n",
       "      <td>1547.112462</td>\n",
       "      <td>b'1'</td>\n",
       "      <td>28.0</td>\n",
       "      <td>75.0</td>\n",
       "      <td>1.0</td>\n",
       "      <td>11.0</td>\n",
       "      <td>173.0</td>\n",
       "      <td>468.115942</td>\n",
       "      <td>21.674806</td>\n",
       "      <td>108.0</td>\n",
       "      <td>-230.0</td>\n",
       "      <td>161</td>\n",
       "      <td>0.3336</td>\n",
       "      <td>0.04748</td>\n",
       "    </tr>\n",
       "  </tbody>\n",
       "</table>\n",
       "</div>"
      ],
      "text/plain": [
       "          _id_  comp_interno4_x fecha_inicio  comp_interno1 comp_interno2  \\\n",
       "num_caso                                                                    \n",
       "1            1             67.0   2016-03-31    3039.513678          b'1'   \n",
       "7            7             75.0   2016-01-19    1547.112462          b'1'   \n",
       "\n",
       "          comp_interno3  comp_interno4_y  categoria1  categoria2  categoria3  \\\n",
       "num_caso                                                                       \n",
       "1                  26.0             67.0         3.0         3.0       171.0   \n",
       "7                  28.0             75.0         1.0        11.0       173.0   \n",
       "\n",
       "          comp_externo1  comp_externo2  comp_externo3  comp_externo4  _id2_  \\\n",
       "num_caso                                                                      \n",
       "1            217.391304      21.545533          102.0         -230.0     23   \n",
       "7            468.115942      21.674806          108.0         -230.0    161   \n",
       "\n",
       "          comp_mixto1  inversion  \n",
       "num_caso                          \n",
       "1              0.3800   52.50049  \n",
       "7              0.3336    0.04748  "
      ]
     },
     "execution_count": 16,
     "metadata": {},
     "output_type": "execute_result"
    }
   ],
   "source": [
    "merge_t = b_inicio.merge( b_int, on=\"_id_\").merge(b_ext, on='_id_').merge(b_pt1, on='_id_').merge(b_inv,on='_id2_') #unimos las bases\n",
    "merge_t['num_caso']=merge_t['_id_']  \n",
    "merge_t=merge_t.set_index('num_caso') #agregamos los id como indices\n",
    "#merge_t=merge_t.dropna()\n",
    "merge_t=merge_t.sort_values(by=['_id_'])   #ordenamos por inidces\n",
    "\n",
    "merge_t.head(2)"
   ]
  },
  {
   "cell_type": "markdown",
   "id": "9959a137",
   "metadata": {},
   "source": [
    "unir las bases del comportamiento"
   ]
  },
  {
   "cell_type": "code",
   "execution_count": 73,
   "id": "3ded88c9",
   "metadata": {
    "scrolled": true
   },
   "outputs": [],
   "source": [
    "comportamiento=pd.merge(b_comp3,b_comp2, how='outer', left_index=True, right_index=True)  #unimos las bases de comportamiento\n",
    "comportamiento=comportamiento.drop(['mes_informacion_y'], axis=1)     #eliminamos las columnas repetidas\n",
    "comportamiento=comportamiento.rename(columns={\"num_caso_x\": \"_id_\",'num_caso_y':'num_caso'})  #renombramos\n"
   ]
  },
  {
   "cell_type": "code",
   "execution_count": 74,
   "id": "f8bff470",
   "metadata": {},
   "outputs": [
    {
     "data": {
      "text/html": [
       "<div>\n",
       "<style scoped>\n",
       "    .dataframe tbody tr th:only-of-type {\n",
       "        vertical-align: middle;\n",
       "    }\n",
       "\n",
       "    .dataframe tbody tr th {\n",
       "        vertical-align: top;\n",
       "    }\n",
       "\n",
       "    .dataframe thead th {\n",
       "        text-align: right;\n",
       "    }\n",
       "</style>\n",
       "<table border=\"1\" class=\"dataframe\">\n",
       "  <thead>\n",
       "    <tr style=\"text-align: right;\">\n",
       "      <th></th>\n",
       "      <th>_id_</th>\n",
       "      <th>mes_informacion_x</th>\n",
       "      <th>comportamiento_j</th>\n",
       "      <th>num_caso</th>\n",
       "      <th>Tiempo_aparicion</th>\n",
       "    </tr>\n",
       "  </thead>\n",
       "  <tbody>\n",
       "    <tr>\n",
       "      <th>0</th>\n",
       "      <td>1</td>\n",
       "      <td>2016-04-01 00:00:00</td>\n",
       "      <td>0.0</td>\n",
       "      <td>1</td>\n",
       "      <td>0.0</td>\n",
       "    </tr>\n",
       "    <tr>\n",
       "      <th>1</th>\n",
       "      <td>1</td>\n",
       "      <td>2016-05-01 00:00:00</td>\n",
       "      <td>0.0</td>\n",
       "      <td>1</td>\n",
       "      <td>1.0</td>\n",
       "    </tr>\n",
       "    <tr>\n",
       "      <th>2</th>\n",
       "      <td>1</td>\n",
       "      <td>2016-06-01 00:00:00</td>\n",
       "      <td>0.0</td>\n",
       "      <td>1</td>\n",
       "      <td>2.0</td>\n",
       "    </tr>\n",
       "    <tr>\n",
       "      <th>3</th>\n",
       "      <td>1</td>\n",
       "      <td>2016-07-01 00:00:00</td>\n",
       "      <td>0.0</td>\n",
       "      <td>1</td>\n",
       "      <td>3.0</td>\n",
       "    </tr>\n",
       "    <tr>\n",
       "      <th>4</th>\n",
       "      <td>1</td>\n",
       "      <td>2016-08-01 00:00:00</td>\n",
       "      <td>0.0</td>\n",
       "      <td>1</td>\n",
       "      <td>4.0</td>\n",
       "    </tr>\n",
       "  </tbody>\n",
       "</table>\n",
       "</div>"
      ],
      "text/plain": [
       "   _id_    mes_informacion_x  comportamiento_j  num_caso  Tiempo_aparicion\n",
       "0     1  2016-04-01 00:00:00               0.0         1               0.0\n",
       "1     1  2016-05-01 00:00:00               0.0         1               1.0\n",
       "2     1  2016-06-01 00:00:00               0.0         1               2.0\n",
       "3     1  2016-07-01 00:00:00               0.0         1               3.0\n",
       "4     1  2016-08-01 00:00:00               0.0         1               4.0"
      ]
     },
     "execution_count": 74,
     "metadata": {},
     "output_type": "execute_result"
    }
   ],
   "source": [
    "comportamiento.head()"
   ]
  },
  {
   "cell_type": "code",
   "execution_count": 110,
   "id": "743c6685",
   "metadata": {},
   "outputs": [
    {
     "data": {
      "text/html": [
       "<div>\n",
       "<style scoped>\n",
       "    .dataframe tbody tr th:only-of-type {\n",
       "        vertical-align: middle;\n",
       "    }\n",
       "\n",
       "    .dataframe tbody tr th {\n",
       "        vertical-align: top;\n",
       "    }\n",
       "\n",
       "    .dataframe thead th {\n",
       "        text-align: right;\n",
       "    }\n",
       "</style>\n",
       "<table border=\"1\" class=\"dataframe\">\n",
       "  <thead>\n",
       "    <tr style=\"text-align: right;\">\n",
       "      <th></th>\n",
       "      <th>comp</th>\n",
       "      <th>_id_</th>\n",
       "    </tr>\n",
       "    <tr>\n",
       "      <th>num_caso</th>\n",
       "      <th></th>\n",
       "      <th></th>\n",
       "    </tr>\n",
       "  </thead>\n",
       "  <tbody>\n",
       "    <tr>\n",
       "      <th>1</th>\n",
       "      <td>0.003702</td>\n",
       "      <td>1</td>\n",
       "    </tr>\n",
       "    <tr>\n",
       "      <th>7</th>\n",
       "      <td>0.059113</td>\n",
       "      <td>7</td>\n",
       "    </tr>\n",
       "    <tr>\n",
       "      <th>8</th>\n",
       "      <td>0.002992</td>\n",
       "      <td>8</td>\n",
       "    </tr>\n",
       "    <tr>\n",
       "      <th>9</th>\n",
       "      <td>0.000000</td>\n",
       "      <td>9</td>\n",
       "    </tr>\n",
       "    <tr>\n",
       "      <th>10</th>\n",
       "      <td>0.008333</td>\n",
       "      <td>10</td>\n",
       "    </tr>\n",
       "  </tbody>\n",
       "</table>\n",
       "</div>"
      ],
      "text/plain": [
       "              comp  _id_\n",
       "num_caso                \n",
       "1         0.003702     1\n",
       "7         0.059113     7\n",
       "8         0.002992     8\n",
       "9         0.000000     9\n",
       "10        0.008333    10"
      ]
     },
     "execution_count": 110,
     "metadata": {},
     "output_type": "execute_result"
    }
   ],
   "source": [
    "comp=comportamiento.groupby(['num_caso']) #agrupar el comportamiento por num caso\n",
    "#hacemos un data frame que contenga el numero de atrasos entre días, si el cociente es 1 significa que no pagó\n",
    "pr=pd.DataFrame({'comp':comp['comportamiento_j'].sum()/comp['Tiempo_aparicion'].sum()})\n",
    "pr['_id_']=pr.index #agregamos la columna _id_ para cruzarla con las demas tablas\n",
    "pr.head()"
   ]
  },
  {
   "cell_type": "code",
   "execution_count": 185,
   "id": "8f696e4e",
   "metadata": {},
   "outputs": [
    {
     "data": {
      "text/plain": [
       "87"
      ]
     },
     "execution_count": 185,
     "metadata": {},
     "output_type": "execute_result"
    }
   ],
   "source": [
    "n=0.65\n",
    "len(pr.loc[pr['comp']>=n]) #personas que no pagarón o se atrasaron mucho, entre más cerca de 1 es que no paga"
   ]
  },
  {
   "cell_type": "code",
   "execution_count": 186,
   "id": "07750c65",
   "metadata": {},
   "outputs": [
    {
     "data": {
      "text/html": [
       "<div>\n",
       "<style scoped>\n",
       "    .dataframe tbody tr th:only-of-type {\n",
       "        vertical-align: middle;\n",
       "    }\n",
       "\n",
       "    .dataframe tbody tr th {\n",
       "        vertical-align: top;\n",
       "    }\n",
       "\n",
       "    .dataframe thead th {\n",
       "        text-align: right;\n",
       "    }\n",
       "</style>\n",
       "<table border=\"1\" class=\"dataframe\">\n",
       "  <thead>\n",
       "    <tr style=\"text-align: right;\">\n",
       "      <th></th>\n",
       "      <th>comp</th>\n",
       "      <th>_id_</th>\n",
       "      <th>pr_bin</th>\n",
       "    </tr>\n",
       "    <tr>\n",
       "      <th>num_caso</th>\n",
       "      <th></th>\n",
       "      <th></th>\n",
       "      <th></th>\n",
       "    </tr>\n",
       "  </thead>\n",
       "  <tbody>\n",
       "    <tr>\n",
       "      <th>98987</th>\n",
       "      <td>0.0</td>\n",
       "      <td>98987</td>\n",
       "      <td>1.0</td>\n",
       "    </tr>\n",
       "    <tr>\n",
       "      <th>98988</th>\n",
       "      <td>0.0</td>\n",
       "      <td>98988</td>\n",
       "      <td>1.0</td>\n",
       "    </tr>\n",
       "    <tr>\n",
       "      <th>98990</th>\n",
       "      <td>0.0</td>\n",
       "      <td>98990</td>\n",
       "      <td>1.0</td>\n",
       "    </tr>\n",
       "    <tr>\n",
       "      <th>98992</th>\n",
       "      <td>0.0</td>\n",
       "      <td>98992</td>\n",
       "      <td>1.0</td>\n",
       "    </tr>\n",
       "    <tr>\n",
       "      <th>98997</th>\n",
       "      <td>0.0</td>\n",
       "      <td>98997</td>\n",
       "      <td>1.0</td>\n",
       "    </tr>\n",
       "  </tbody>\n",
       "</table>\n",
       "</div>"
      ],
      "text/plain": [
       "          comp   _id_  pr_bin\n",
       "num_caso                     \n",
       "98987      0.0  98987     1.0\n",
       "98988      0.0  98988     1.0\n",
       "98990      0.0  98990     1.0\n",
       "98992      0.0  98992     1.0\n",
       "98997      0.0  98997     1.0"
      ]
     },
     "execution_count": 186,
     "metadata": {},
     "output_type": "execute_result"
    }
   ],
   "source": [
    "pr=pr.sort_values(by=['_id_'])#ordenar por id\n",
    "pr['_id_']=pr['_id_'].astype(int)\n",
    "pr.tail()"
   ]
  },
  {
   "cell_type": "code",
   "execution_count": 187,
   "id": "dac58203",
   "metadata": {},
   "outputs": [],
   "source": [
    "pr['pr_bin']=pr['comp']                   #copiamos la columna\n",
    "pr.loc[pr['comp']>=n,'pr_bin']=0    # filtramos con 0 o 1 según su cociente de pr['comp'], 0 no paga\n",
    "pr.loc[pr['comp']<n,'pr_bin']=1     #1 si paga"
   ]
  },
  {
   "cell_type": "code",
   "execution_count": 188,
   "id": "7bc8ecf1",
   "metadata": {},
   "outputs": [],
   "source": [
    "tab=merge_t.merge(pr,on='_id_', how=\"right\")   #unimos promedio de atraso y las variales"
   ]
  },
  {
   "cell_type": "code",
   "execution_count": 189,
   "id": "4cfd82e8",
   "metadata": {},
   "outputs": [
    {
     "data": {
      "text/html": [
       "<div>\n",
       "<style scoped>\n",
       "    .dataframe tbody tr th:only-of-type {\n",
       "        vertical-align: middle;\n",
       "    }\n",
       "\n",
       "    .dataframe tbody tr th {\n",
       "        vertical-align: top;\n",
       "    }\n",
       "\n",
       "    .dataframe thead th {\n",
       "        text-align: right;\n",
       "    }\n",
       "</style>\n",
       "<table border=\"1\" class=\"dataframe\">\n",
       "  <thead>\n",
       "    <tr style=\"text-align: right;\">\n",
       "      <th></th>\n",
       "      <th>_id_</th>\n",
       "      <th>comp_interno4_x</th>\n",
       "      <th>fecha_inicio</th>\n",
       "      <th>comp_interno1</th>\n",
       "      <th>comp_interno2</th>\n",
       "      <th>comp_interno3</th>\n",
       "      <th>comp_interno4_y</th>\n",
       "      <th>categoria1</th>\n",
       "      <th>categoria2</th>\n",
       "      <th>categoria3</th>\n",
       "      <th>comp_externo1</th>\n",
       "      <th>comp_externo2</th>\n",
       "      <th>comp_externo3</th>\n",
       "      <th>comp_externo4</th>\n",
       "      <th>_id2_</th>\n",
       "      <th>comp_mixto1</th>\n",
       "      <th>inversion</th>\n",
       "      <th>comp</th>\n",
       "      <th>pr_bin</th>\n",
       "    </tr>\n",
       "  </thead>\n",
       "  <tbody>\n",
       "    <tr>\n",
       "      <th>0</th>\n",
       "      <td>1</td>\n",
       "      <td>67.0</td>\n",
       "      <td>2016-03-31</td>\n",
       "      <td>3039.513678</td>\n",
       "      <td>b'1'</td>\n",
       "      <td>26.0</td>\n",
       "      <td>67.0</td>\n",
       "      <td>3.0</td>\n",
       "      <td>3.0</td>\n",
       "      <td>171.0</td>\n",
       "      <td>217.391304</td>\n",
       "      <td>21.545533</td>\n",
       "      <td>102.0</td>\n",
       "      <td>-230.0</td>\n",
       "      <td>23.0</td>\n",
       "      <td>0.38000</td>\n",
       "      <td>52.500490</td>\n",
       "      <td>0.003702</td>\n",
       "      <td>1.0</td>\n",
       "    </tr>\n",
       "    <tr>\n",
       "      <th>1</th>\n",
       "      <td>7</td>\n",
       "      <td>75.0</td>\n",
       "      <td>2016-01-19</td>\n",
       "      <td>1547.112462</td>\n",
       "      <td>b'1'</td>\n",
       "      <td>28.0</td>\n",
       "      <td>75.0</td>\n",
       "      <td>1.0</td>\n",
       "      <td>11.0</td>\n",
       "      <td>173.0</td>\n",
       "      <td>468.115942</td>\n",
       "      <td>21.674806</td>\n",
       "      <td>108.0</td>\n",
       "      <td>-230.0</td>\n",
       "      <td>161.0</td>\n",
       "      <td>0.33360</td>\n",
       "      <td>0.047480</td>\n",
       "      <td>0.059113</td>\n",
       "      <td>1.0</td>\n",
       "    </tr>\n",
       "    <tr>\n",
       "      <th>2</th>\n",
       "      <td>8</td>\n",
       "      <td>55.0</td>\n",
       "      <td>2016-02-10</td>\n",
       "      <td>1215.805471</td>\n",
       "      <td>b'1'</td>\n",
       "      <td>14.0</td>\n",
       "      <td>55.0</td>\n",
       "      <td>2.0</td>\n",
       "      <td>6.0</td>\n",
       "      <td>159.0</td>\n",
       "      <td>371.884058</td>\n",
       "      <td>36.857225</td>\n",
       "      <td>125.0</td>\n",
       "      <td>-230.0</td>\n",
       "      <td>184.0</td>\n",
       "      <td>0.27898</td>\n",
       "      <td>227.537211</td>\n",
       "      <td>0.002992</td>\n",
       "      <td>1.0</td>\n",
       "    </tr>\n",
       "    <tr>\n",
       "      <th>3</th>\n",
       "      <td>9</td>\n",
       "      <td>55.0</td>\n",
       "      <td>2016-02-18</td>\n",
       "      <td>0.000000</td>\n",
       "      <td>b'1'</td>\n",
       "      <td>11.0</td>\n",
       "      <td>55.0</td>\n",
       "      <td>2.0</td>\n",
       "      <td>9.0</td>\n",
       "      <td>156.0</td>\n",
       "      <td>85.507246</td>\n",
       "      <td>6.274059</td>\n",
       "      <td>105.0</td>\n",
       "      <td>-230.0</td>\n",
       "      <td>207.0</td>\n",
       "      <td>0.38000</td>\n",
       "      <td>0.921995</td>\n",
       "      <td>0.000000</td>\n",
       "      <td>1.0</td>\n",
       "    </tr>\n",
       "    <tr>\n",
       "      <th>4</th>\n",
       "      <td>10</td>\n",
       "      <td>56.0</td>\n",
       "      <td>2016-02-18</td>\n",
       "      <td>0.000000</td>\n",
       "      <td>b'1'</td>\n",
       "      <td>11.0</td>\n",
       "      <td>56.0</td>\n",
       "      <td>2.0</td>\n",
       "      <td>6.0</td>\n",
       "      <td>156.0</td>\n",
       "      <td>72.463768</td>\n",
       "      <td>7.181844</td>\n",
       "      <td>92.0</td>\n",
       "      <td>-230.0</td>\n",
       "      <td>230.0</td>\n",
       "      <td>0.37050</td>\n",
       "      <td>39.259568</td>\n",
       "      <td>0.008333</td>\n",
       "      <td>1.0</td>\n",
       "    </tr>\n",
       "  </tbody>\n",
       "</table>\n",
       "</div>"
      ],
      "text/plain": [
       "   _id_  comp_interno4_x fecha_inicio  comp_interno1 comp_interno2  \\\n",
       "0     1             67.0   2016-03-31    3039.513678          b'1'   \n",
       "1     7             75.0   2016-01-19    1547.112462          b'1'   \n",
       "2     8             55.0   2016-02-10    1215.805471          b'1'   \n",
       "3     9             55.0   2016-02-18       0.000000          b'1'   \n",
       "4    10             56.0   2016-02-18       0.000000          b'1'   \n",
       "\n",
       "   comp_interno3  comp_interno4_y  categoria1  categoria2  categoria3  \\\n",
       "0           26.0             67.0         3.0         3.0       171.0   \n",
       "1           28.0             75.0         1.0        11.0       173.0   \n",
       "2           14.0             55.0         2.0         6.0       159.0   \n",
       "3           11.0             55.0         2.0         9.0       156.0   \n",
       "4           11.0             56.0         2.0         6.0       156.0   \n",
       "\n",
       "   comp_externo1  comp_externo2  comp_externo3  comp_externo4  _id2_  \\\n",
       "0     217.391304      21.545533          102.0         -230.0   23.0   \n",
       "1     468.115942      21.674806          108.0         -230.0  161.0   \n",
       "2     371.884058      36.857225          125.0         -230.0  184.0   \n",
       "3      85.507246       6.274059          105.0         -230.0  207.0   \n",
       "4      72.463768       7.181844           92.0         -230.0  230.0   \n",
       "\n",
       "   comp_mixto1   inversion      comp  pr_bin  \n",
       "0      0.38000   52.500490  0.003702     1.0  \n",
       "1      0.33360    0.047480  0.059113     1.0  \n",
       "2      0.27898  227.537211  0.002992     1.0  \n",
       "3      0.38000    0.921995  0.000000     1.0  \n",
       "4      0.37050   39.259568  0.008333     1.0  "
      ]
     },
     "execution_count": 189,
     "metadata": {},
     "output_type": "execute_result"
    }
   ],
   "source": [
    "tab.head()"
   ]
  },
  {
   "cell_type": "code",
   "execution_count": 215,
   "id": "7d172959",
   "metadata": {},
   "outputs": [],
   "source": [
    "tab=tab.dropna(how='any')\n",
    "cols=tab.columns\n",
    "\n",
    "x=tab.loc[:,[cols[1],cols[3],cols[5],cols[7],cols[8],cols[9],cols[10],cols[11],cols[12],cols[13],cols[14], cols[15]]]\n",
    "y=tab['pr_bin']"
   ]
  },
  {
   "cell_type": "code",
   "execution_count": 196,
   "id": "dadff50a",
   "metadata": {},
   "outputs": [
    {
     "data": {
      "text/plain": [
       "Index(['_id_', 'comp_interno4_x', 'fecha_inicio', 'comp_interno1',\n",
       "       'comp_interno2', 'comp_interno3', 'comp_interno4_y', 'categoria1',\n",
       "       'categoria2', 'categoria3', 'comp_externo1', 'comp_externo2',\n",
       "       'comp_externo3', 'comp_externo4', '_id2_', 'comp_mixto1', 'inversion',\n",
       "       'comp', 'pr_bin'],\n",
       "      dtype='object')"
      ]
     },
     "execution_count": 196,
     "metadata": {},
     "output_type": "execute_result"
    }
   ],
   "source": [
    "cols"
   ]
  },
  {
   "cell_type": "code",
   "execution_count": 154,
   "id": "3c346674",
   "metadata": {},
   "outputs": [],
   "source": [
    "from sklearn.linear_model import LogisticRegression\n",
    "from sklearn.model_selection import train_test_split\n",
    "from sklearn.metrics import accuracy_score\n",
    "import statsmodels.api as sm\n",
    "import statsmodels.formula.api as smf\n",
    "from statsmodels.stats.weightstats import ttest_ind"
   ]
  },
  {
   "cell_type": "code",
   "execution_count": 216,
   "id": "06227b03",
   "metadata": {},
   "outputs": [],
   "source": [
    "X_train, X_test, y_train, y_test = train_test_split(x, y, test_size=0.2, random_state=123)"
   ]
  },
  {
   "cell_type": "code",
   "execution_count": 217,
   "id": "ff21527f",
   "metadata": {},
   "outputs": [
    {
     "name": "stdout",
     "output_type": "stream",
     "text": [
      "Optimization terminated successfully.\n",
      "         Current function value: 0.008184\n",
      "         Iterations 13\n",
      "                           Logit Regression Results                           \n",
      "==============================================================================\n",
      "Dep. Variable:                 pr_bin   No. Observations:                12303\n",
      "Model:                          Logit   Df Residuals:                    12290\n",
      "Method:                           MLE   Df Model:                           12\n",
      "Date:                Wed, 10 Nov 2021   Pseudo R-squ.:                  0.1292\n",
      "Time:                        23:28:43   Log-Likelihood:                -100.69\n",
      "converged:                       True   LL-Null:                       -115.63\n",
      "Covariance Type:            nonrobust   LLR p-value:                  0.002909\n",
      "===================================================================================\n",
      "                      coef    std err          z      P>|z|      [0.025      0.975]\n",
      "-----------------------------------------------------------------------------------\n",
      "const               0.0018   2.77e+06   6.61e-10      1.000   -5.44e+06    5.44e+06\n",
      "comp_interno4_x    -0.0679      0.026     -2.603      0.009      -0.119      -0.017\n",
      "comp_interno1   -1.144e-07    8.4e-05     -0.001      0.999      -0.000       0.000\n",
      "comp_interno3      -0.1308   1.91e+04  -6.84e-06      1.000   -3.75e+04    3.75e+04\n",
      "categoria1          0.5027      0.321      1.565      0.118      -0.127       1.132\n",
      "categoria2         -0.0911      0.144     -0.633      0.527      -0.373       0.191\n",
      "categoria3          0.1355   1.91e+04   7.09e-06      1.000   -3.75e+04    3.75e+04\n",
      "comp_externo1    -3.32e-07      0.000     -0.001      0.999      -0.000       0.000\n",
      "comp_externo2       0.0417      0.020      2.114      0.035       0.003       0.080\n",
      "comp_externo3       0.0040      0.002      2.208      0.027       0.000       0.008\n",
      "comp_externo4    1.015e-09   2.17e-08      0.047      0.963   -4.15e-08    4.35e-08\n",
      "_id2_             9.42e-08   4.21e-07      0.224      0.823   -7.31e-07    9.19e-07\n",
      "comp_mixto1       -29.5319     12.841     -2.300      0.021     -54.700      -4.364\n",
      "===================================================================================\n",
      "\n",
      "Possibly complete quasi-separation: A fraction 0.26 of observations can be\n",
      "perfectly predicted. This might indicate that there is complete\n",
      "quasi-separation. In this case some parameters will not be identified.\n"
     ]
    }
   ],
   "source": [
    "X_train = sm.add_constant(X_train, prepend=True)\n",
    "modelo = sm.Logit(endog=y_train, exog=X_train,)\n",
    "modelo = modelo.fit()\n",
    "print(modelo.summary())"
   ]
  },
  {
   "cell_type": "code",
   "execution_count": 225,
   "id": "a6a4c6e1",
   "metadata": {},
   "outputs": [],
   "source": [
    "x=tab.loc[:,[cols[3],cols[8],cols[11],cols[12], cols[15]]]\n",
    "X_train, X_test, y_train, y_test = train_test_split(x, y, test_size=0.2, random_state=123)\n"
   ]
  },
  {
   "cell_type": "code",
   "execution_count": 220,
   "id": "5906573b",
   "metadata": {},
   "outputs": [
    {
     "data": {
      "text/plain": [
       "'comp_externo1'"
      ]
     },
     "execution_count": 220,
     "metadata": {},
     "output_type": "execute_result"
    }
   ],
   "source": [
    "cols[10]"
   ]
  },
  {
   "cell_type": "code",
   "execution_count": 222,
   "id": "7573c027",
   "metadata": {},
   "outputs": [
    {
     "ename": "TypeError",
     "evalue": "predict() got an unexpected keyword argument 'exog'",
     "output_type": "error",
     "traceback": [
      "\u001b[1;31m---------------------------------------------------------------------------\u001b[0m",
      "\u001b[1;31mTypeError\u001b[0m                                 Traceback (most recent call last)",
      "\u001b[1;32m<ipython-input-222-172e68b9f494>\u001b[0m in \u001b[0;36m<module>\u001b[1;34m\u001b[0m\n\u001b[0;32m      1\u001b[0m \u001b[0mX_test\u001b[0m \u001b[1;33m=\u001b[0m \u001b[0msm\u001b[0m\u001b[1;33m.\u001b[0m\u001b[0madd_constant\u001b[0m\u001b[1;33m(\u001b[0m\u001b[0mX_test\u001b[0m\u001b[1;33m,\u001b[0m \u001b[0mprepend\u001b[0m\u001b[1;33m=\u001b[0m\u001b[1;32mTrue\u001b[0m\u001b[1;33m)\u001b[0m\u001b[1;33m\u001b[0m\u001b[1;33m\u001b[0m\u001b[0m\n\u001b[1;32m----> 2\u001b[1;33m \u001b[0mpredicciones\u001b[0m \u001b[1;33m=\u001b[0m \u001b[0mmodelo\u001b[0m\u001b[1;33m.\u001b[0m\u001b[0mpredict\u001b[0m\u001b[1;33m(\u001b[0m\u001b[0mexog\u001b[0m \u001b[1;33m=\u001b[0m \u001b[0mX_test\u001b[0m\u001b[1;33m)\u001b[0m\u001b[1;33m\u001b[0m\u001b[1;33m\u001b[0m\u001b[0m\n\u001b[0m\u001b[0;32m      3\u001b[0m \u001b[0mclasificacion\u001b[0m \u001b[1;33m=\u001b[0m \u001b[0mnp\u001b[0m\u001b[1;33m.\u001b[0m\u001b[0mwhere\u001b[0m\u001b[1;33m(\u001b[0m\u001b[0mpredicciones\u001b[0m\u001b[1;33m<\u001b[0m\u001b[1;36m0.5\u001b[0m\u001b[1;33m,\u001b[0m \u001b[1;36m0\u001b[0m\u001b[1;33m,\u001b[0m \u001b[1;36m1\u001b[0m\u001b[1;33m)\u001b[0m\u001b[1;33m\u001b[0m\u001b[1;33m\u001b[0m\u001b[0m\n\u001b[0;32m      4\u001b[0m accuracy = accuracy_score(\n\u001b[0;32m      5\u001b[0m             \u001b[0my_true\u001b[0m    \u001b[1;33m=\u001b[0m \u001b[0my_test\u001b[0m\u001b[1;33m,\u001b[0m\u001b[1;33m\u001b[0m\u001b[1;33m\u001b[0m\u001b[0m\n",
      "\u001b[1;31mTypeError\u001b[0m: predict() got an unexpected keyword argument 'exog'"
     ]
    }
   ],
   "source": [
    "X_test = sm.add_constant(X_test, prepend=True)\n",
    "predicciones = modelo.predict(exog = X_test)\n",
    "clasificacion = np.where(predicciones<0.5, 0, 1)\n",
    "accuracy = accuracy_score(\n",
    "            y_true    = y_test,\n",
    "            y_pred    = clasificacion,\n",
    "            normalize = True\n",
    "           )\n",
    "print(\"\")\n",
    "print(f\"El accuracy de test es: {100*accuracy}%\")"
   ]
  },
  {
   "cell_type": "code",
   "execution_count": 223,
   "id": "356eaab5",
   "metadata": {},
   "outputs": [
    {
     "name": "stderr",
     "output_type": "stream",
     "text": [
      "C:\\Users\\aldai\\anaconda3\\lib\\site-packages\\scipy\\optimize\\linesearch.py:478: LineSearchWarning: The line search algorithm did not converge\n",
      "  warn('The line search algorithm did not converge', LineSearchWarning)\n",
      "C:\\Users\\aldai\\anaconda3\\lib\\site-packages\\scipy\\optimize\\linesearch.py:327: LineSearchWarning: The line search algorithm did not converge\n",
      "  warn('The line search algorithm did not converge', LineSearchWarning)\n",
      "C:\\Users\\aldai\\anaconda3\\lib\\site-packages\\scipy\\optimize\\linesearch.py:478: LineSearchWarning: The line search algorithm did not converge\n",
      "  warn('The line search algorithm did not converge', LineSearchWarning)\n",
      "C:\\Users\\aldai\\anaconda3\\lib\\site-packages\\scipy\\optimize\\linesearch.py:327: LineSearchWarning: The line search algorithm did not converge\n",
      "  warn('The line search algorithm did not converge', LineSearchWarning)\n",
      "C:\\Users\\aldai\\anaconda3\\lib\\site-packages\\scipy\\optimize\\linesearch.py:478: LineSearchWarning: The line search algorithm did not converge\n",
      "  warn('The line search algorithm did not converge', LineSearchWarning)\n",
      "C:\\Users\\aldai\\anaconda3\\lib\\site-packages\\scipy\\optimize\\linesearch.py:327: LineSearchWarning: The line search algorithm did not converge\n",
      "  warn('The line search algorithm did not converge', LineSearchWarning)\n",
      "C:\\Users\\aldai\\anaconda3\\lib\\site-packages\\scipy\\optimize\\linesearch.py:478: LineSearchWarning: The line search algorithm did not converge\n",
      "  warn('The line search algorithm did not converge', LineSearchWarning)\n",
      "C:\\Users\\aldai\\anaconda3\\lib\\site-packages\\scipy\\optimize\\linesearch.py:327: LineSearchWarning: The line search algorithm did not converge\n",
      "  warn('The line search algorithm did not converge', LineSearchWarning)\n",
      "C:\\Users\\aldai\\anaconda3\\lib\\site-packages\\scipy\\optimize\\linesearch.py:478: LineSearchWarning: The line search algorithm did not converge\n",
      "  warn('The line search algorithm did not converge', LineSearchWarning)\n",
      "C:\\Users\\aldai\\anaconda3\\lib\\site-packages\\scipy\\optimize\\linesearch.py:327: LineSearchWarning: The line search algorithm did not converge\n",
      "  warn('The line search algorithm did not converge', LineSearchWarning)\n",
      "C:\\Users\\aldai\\anaconda3\\lib\\site-packages\\scipy\\optimize\\linesearch.py:478: LineSearchWarning: The line search algorithm did not converge\n",
      "  warn('The line search algorithm did not converge', LineSearchWarning)\n",
      "C:\\Users\\aldai\\anaconda3\\lib\\site-packages\\scipy\\optimize\\linesearch.py:327: LineSearchWarning: The line search algorithm did not converge\n",
      "  warn('The line search algorithm did not converge', LineSearchWarning)\n",
      "C:\\Users\\aldai\\anaconda3\\lib\\site-packages\\scipy\\optimize\\linesearch.py:478: LineSearchWarning: The line search algorithm did not converge\n",
      "  warn('The line search algorithm did not converge', LineSearchWarning)\n",
      "C:\\Users\\aldai\\anaconda3\\lib\\site-packages\\scipy\\optimize\\linesearch.py:327: LineSearchWarning: The line search algorithm did not converge\n",
      "  warn('The line search algorithm did not converge', LineSearchWarning)\n"
     ]
    },
    {
     "name": "stdout",
     "output_type": "stream",
     "text": [
      "[[ 8.72363009e-04 -6.53950892e-02  1.48245576e-05 -6.34713727e-02\n",
      "   4.95656949e-01 -8.24873606e-02  6.30212636e-02  4.27846375e-06\n",
      "   4.36028440e-02  3.18988565e-03  2.06539964e-09  1.00218970e-07\n",
      "  -2.85111499e-01]]\n",
      "[0.00223115]\n",
      "0.9986996098829649\n"
     ]
    },
    {
     "name": "stderr",
     "output_type": "stream",
     "text": [
      "C:\\Users\\aldai\\anaconda3\\lib\\site-packages\\scipy\\optimize\\linesearch.py:437: LineSearchWarning: Rounding errors prevent the line search from converging\n",
      "  warn(msg, LineSearchWarning)\n",
      "C:\\Users\\aldai\\anaconda3\\lib\\site-packages\\scipy\\optimize\\linesearch.py:327: LineSearchWarning: The line search algorithm did not converge\n",
      "  warn('The line search algorithm did not converge', LineSearchWarning)\n",
      "C:\\Users\\aldai\\anaconda3\\lib\\site-packages\\sklearn\\utils\\optimize.py:195: UserWarning: Line Search failed\n",
      "  warnings.warn('Line Search failed')\n"
     ]
    }
   ],
   "source": [
    "modelo=LogisticRegression(C=1,solver='newton-cg',max_iter=1000).fit(X_train,y_train)\n",
    "print(modelo.coef_)\n",
    "print(modelo.intercept_)\n",
    "print(modelo.score(X_test,y_test))"
   ]
  },
  {
   "cell_type": "code",
   "execution_count": 226,
   "id": "ea0bfcdf",
   "metadata": {},
   "outputs": [
    {
     "name": "stdout",
     "output_type": "stream",
     "text": [
      "Optimization terminated successfully.\n",
      "         Current function value: 0.008585\n",
      "         Iterations 13\n",
      "                           Logit Regression Results                           \n",
      "==============================================================================\n",
      "Dep. Variable:                 pr_bin   No. Observations:                12303\n",
      "Model:                          Logit   Df Residuals:                    12297\n",
      "Method:                           MLE   Df Model:                            5\n",
      "Date:                Thu, 11 Nov 2021   Pseudo R-squ.:                 0.08655\n",
      "Time:                        00:01:58   Log-Likelihood:                -105.63\n",
      "converged:                       True   LL-Null:                       -115.63\n",
      "Covariance Type:            nonrobust   LLR p-value:                  0.001241\n",
      "=================================================================================\n",
      "                    coef    std err          z      P>|z|      [0.025      0.975]\n",
      "---------------------------------------------------------------------------------\n",
      "const            17.2397      4.869      3.541      0.000       7.698      26.782\n",
      "comp_interno1 -1.005e-05   5.34e-05     -0.188      0.851      -0.000    9.47e-05\n",
      "categoria2       -0.1322      0.144     -0.919      0.358      -0.414       0.150\n",
      "comp_externo2     0.0366      0.019      1.928      0.054      -0.001       0.074\n",
      "comp_externo3     0.0028      0.002      1.612      0.107      -0.001       0.006\n",
      "comp_mixto1     -29.6953     12.875     -2.306      0.021     -54.930      -4.461\n",
      "=================================================================================\n",
      "\n",
      "Possibly complete quasi-separation: A fraction 0.21 of observations can be\n",
      "perfectly predicted. This might indicate that there is complete\n",
      "quasi-separation. In this case some parameters will not be identified.\n"
     ]
    }
   ],
   "source": [
    "X_train = sm.add_constant(X_train, prepend=True)\n",
    "modelo = sm.Logit(endog=y_train, exog=X_train,)\n",
    "modelo = modelo.fit()\n",
    "print(modelo.summary())"
   ]
  }
 ],
 "metadata": {
  "kernelspec": {
   "display_name": "Python 3",
   "language": "python",
   "name": "python3"
  },
  "language_info": {
   "codemirror_mode": {
    "name": "ipython",
    "version": 3
   },
   "file_extension": ".py",
   "mimetype": "text/x-python",
   "name": "python",
   "nbconvert_exporter": "python",
   "pygments_lexer": "ipython3",
   "version": "3.8.8"
  }
 },
 "nbformat": 4,
 "nbformat_minor": 5
}
