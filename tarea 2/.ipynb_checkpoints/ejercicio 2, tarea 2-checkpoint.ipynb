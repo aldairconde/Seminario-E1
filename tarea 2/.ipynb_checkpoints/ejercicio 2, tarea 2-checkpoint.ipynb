{
 "cells": [
  {
   "cell_type": "code",
   "execution_count": 1,
   "id": "eae8c550",
   "metadata": {},
   "outputs": [],
   "source": [
    "import pandas as pd\n",
    "import numpy as np\n",
    "import pandas as pd\n",
    "from sklearn.model_selection import train_test_split\n",
    "from sklearn.impute import SimpleImputer\n",
    "from sklearn.preprocessing import OneHotEncoder\n",
    "from sklearn.compose import ColumnTransformer\n",
    "from sklearn.pipeline import Pipeline\n",
    "from sklearn.tree import DecisionTreeClassifier, export_graphviz\n",
    "from sklearn import metrics\n",
    "from pylab import*\n",
    "import seaborn as sns\n",
    "import numpy as np\n",
    "from sklearn.model_selection import (GridSearchCV, cross_val_score,\n",
    "                                                 RandomizedSearchCV,\n",
    "                                                 cross_validate,\n",
    "                                                 StratifiedKFold)"
   ]
  },
  {
   "cell_type": "markdown",
   "id": "b29ba096",
   "metadata": {},
   "source": [
    "## función para la curva ROC"
   ]
  },
  {
   "cell_type": "code",
   "execution_count": 2,
   "id": "413f91e0",
   "metadata": {},
   "outputs": [],
   "source": [
    "def performance_evaluation_report(model, X_test, y_test, show_plot=False, labels=None, show_pr_curve=False):\n",
    "    '''\n",
    "    Function for creating a performance report of a classification model.\n",
    "    \n",
    "    Parameters\n",
    "    ----------\n",
    "    model : scikit-learn estimator\n",
    "        A fitted estimator for classification problems.\n",
    "    X_test : pd.DataFrame\n",
    "        DataFrame with features matching y_test\n",
    "    y_test : array/pd.Series\n",
    "        Target of a classification problem.\n",
    "    show_plot : bool\n",
    "        Flag whether to show the plot\n",
    "    labels : list\n",
    "        List with the class names.\n",
    "    show_pr_curve : bool\n",
    "        Flag whether to also show the PR-curve. For this to take effect, \n",
    "        show_plot must be True.\n",
    "        \n",
    "    Return\n",
    "    ------\n",
    "    stats : pd.Series\n",
    "        A series with the most important evaluation metrics\n",
    "    '''\n",
    "\n",
    "    y_pred = model.predict(X_test)\n",
    "    y_pred_prob = model.predict_proba(X_test)[:, 1]\n",
    "\n",
    "    cm = metrics.confusion_matrix(y_test, y_pred)\n",
    "    tn, fp, fn, tp = cm.ravel()\n",
    "\n",
    "    fpr, tpr, threshold = metrics.roc_curve(y_test, y_pred_prob)\n",
    "    roc_auc = metrics.auc(fpr, tpr)\n",
    "\n",
    "    precision, recall, thresholds = metrics.precision_recall_curve(\n",
    "        y_test, y_pred_prob)\n",
    "    pr_auc = metrics.auc(recall, precision)\n",
    "\n",
    "    if show_plot:\n",
    "\n",
    "        if labels is None:\n",
    "            labels = ['Negative', 'Positive']\n",
    "\n",
    "        N_SUBPLOTS = 3 if show_pr_curve else 2\n",
    "        PLOT_WIDTH = 15 if show_pr_curve else 12\n",
    "        PLOT_HEIGHT = 5 if show_pr_curve else 6\n",
    "\n",
    "        fig, ax = plt.subplots(\n",
    "            1, N_SUBPLOTS, figsize=(PLOT_WIDTH, PLOT_HEIGHT))\n",
    "        fig.suptitle('Performance Evaluation', fontsize=16)\n",
    "\n",
    "        sns.heatmap(cm, annot=True, fmt=\"d\", linewidths=.5, cmap='BuGn_r', square=True, cbar=False, ax=ax[0],\n",
    "                    annot_kws={\"ha\": 'center', \"va\": 'center'})\n",
    "        ax[0].set(xlabel='Predicted label',\n",
    "                  ylabel='Actual label', title='Confusion Matrix')\n",
    "        ax[0].xaxis.set_ticklabels(labels)\n",
    "        ax[0].yaxis.set_ticklabels(labels)\n",
    "\n",
    "        ax[1].plot(fpr, tpr, 'b-', label=f'ROC-AUC = {roc_auc:.2f}')\n",
    "        ax[1].set(xlabel='False Positive Rate',\n",
    "                  ylabel='True Positive Rate', title='ROC Curve')\n",
    "        ax[1].plot(fp/(fp+tn), tp/(tp+fn), 'ro',\n",
    "                   markersize=8, label='Decision Point')\n",
    "        ax[1].plot([0, 1], [0, 1], 'r--')\n",
    "        ax[1].legend(loc='lower right')\n",
    "\n",
    "        if show_pr_curve:\n",
    "\n",
    "            ax[2].plot(recall, precision, label=f'PR-AUC = {pr_auc:.2f}')\n",
    "            ax[2].set(xlabel='Recall', ylabel='Precision',\n",
    "                      title='Precision-Recall Curve')\n",
    "            ax[2].legend()\n",
    "\n",
    "    stats = {'accuracy': metrics.accuracy_score(y_test, y_pred),\n",
    "             'precision': metrics.precision_score(y_test, y_pred),\n",
    "             'recall': metrics.recall_score(y_test, y_pred),\n",
    "             'specificity': (tn / (tn + fp)),\n",
    "             'f1_score': metrics.f1_score(y_test, y_pred),\n",
    "             'cohens_kappa': metrics.cohen_kappa_score(y_test, y_pred),\n",
    "             'roc_auc': roc_auc,\n",
    "             'pr_auc': pr_auc}\n",
    "\n",
    "    return stats"
   ]
  },
  {
   "cell_type": "markdown",
   "id": "23894cec",
   "metadata": {},
   "source": [
    "## importar datos"
   ]
  },
  {
   "cell_type": "code",
   "execution_count": 3,
   "id": "288c9e03",
   "metadata": {},
   "outputs": [],
   "source": [
    "#importar los datos\n",
    "datos_ext='base_ini_externa.txt'\n",
    "datos_int='base_ini_interna.csv'\n",
    "datos_pt1='base_ini_parte1.csv'\n",
    "datos_comp3='base_comportamiento_3.csv'\n",
    "datos_comp2='base_comportamiento_2.txt'\n",
    "datos_inicio='bd_inicio_parte1.txt'\n",
    "datos_inv='base_inversion.txt'\n",
    "\n",
    "b_comp3=pd.read_csv(datos_comp3)\n",
    "b_comp2=pd.read_csv(datos_comp2,delimiter=' ')\n",
    "b_inicio=pd.read_csv(datos_inicio,delimiter=' ')\n",
    "b_int=pd.read_csv(datos_int)\n",
    "b_ext=pd.read_csv(datos_ext,delimiter=' ')\n",
    "b_pt1=pd.read_csv(datos_pt1)\n",
    "b_inv=pd.read_csv(datos_inv,delimiter=' ')"
   ]
  },
  {
   "cell_type": "markdown",
   "id": "f4b39160",
   "metadata": {},
   "source": [
    "## Tratamiento y limpieza de datos"
   ]
  },
  {
   "cell_type": "code",
   "execution_count": 4,
   "id": "e9261f7f",
   "metadata": {},
   "outputs": [],
   "source": [
    "#unir las bases de las variables\n",
    "merge_t = b_inicio.merge( b_int, on=\"_id_\").merge(b_ext, on='_id_').merge(b_pt1, on='_id_').merge(b_inv,on='_id2_') #unimos las bases\n",
    "merge_t['num_caso']=merge_t['_id_']  \n",
    "merge_t=merge_t.set_index('num_caso') #agregamos los id como indices\n",
    "#merge_t=merge_t.dropna()\n",
    "merge_t=merge_t.sort_values(by=['_id_'])  \n",
    "\n",
    "#unir las bases de las variables\n",
    "comportamiento=pd.merge(b_comp3,b_comp2, how='outer', left_index=True, right_index=True)  #unimos las bases de comportamiento\n",
    "comportamiento=comportamiento.drop(['mes_informacion_y'], axis=1)     #eliminamos las columnas repetidas\n",
    "comportamiento=comportamiento.rename(columns={\"num_caso_x\": \"_id_\",'num_caso_y':'num_caso'})  #renombramos\n"
   ]
  },
  {
   "cell_type": "code",
   "execution_count": 5,
   "id": "19b1f5ee",
   "metadata": {},
   "outputs": [],
   "source": [
    "comp=comportamiento.groupby(['num_caso']) #agrupar el comportamiento por num caso\n",
    "#hacemos un data frame que contenga el numero de atrasos entre días, si el cociente es 1 significa que no pagó\n",
    "pr=pd.DataFrame({'comp':comp['comportamiento_j'].sum()/comp['Tiempo_aparicion'].sum()})\n",
    "pr['_id_']=pr.index #agregamos la columna _id_ para cruzarla con las demas tablas"
   ]
  },
  {
   "cell_type": "code",
   "execution_count": 6,
   "id": "247f42f4",
   "metadata": {},
   "outputs": [
    {
     "data": {
      "text/plain": [
       "2891"
      ]
     },
     "execution_count": 6,
     "metadata": {},
     "output_type": "execute_result"
    }
   ],
   "source": [
    "n=0.05\n",
    "len(pr.loc[pr['comp']>=n]) #personas que no pagarón o se atrasaron, entre más cerca de 1 es que no paga"
   ]
  },
  {
   "cell_type": "code",
   "execution_count": 7,
   "id": "9065651d",
   "metadata": {},
   "outputs": [],
   "source": [
    "pr=pr.sort_values(by=['_id_'])#ordenar por id\n",
    "pr['_id_']=pr['_id_'].astype(int)"
   ]
  },
  {
   "cell_type": "code",
   "execution_count": 8,
   "id": "62eba6c6",
   "metadata": {},
   "outputs": [],
   "source": [
    "pr['pr_bin']=pr['comp']                   #copiamos la columna\n",
    "pr.loc[pr['comp']>=n,'pr_bin']=1    # filtramos con 0 o 1 según su cociente de pr['comp'], 0 no paga\n",
    "pr.loc[pr['comp']<n,'pr_bin']=0     #1 si paga"
   ]
  },
  {
   "cell_type": "code",
   "execution_count": 9,
   "id": "a8c7fac3",
   "metadata": {},
   "outputs": [],
   "source": [
    "tab=merge_t.merge(pr,on='_id_', how=\"left\") \n",
    "tab=tab.fillna(0.0)"
   ]
  },
  {
   "cell_type": "code",
   "execution_count": 10,
   "id": "05769292",
   "metadata": {},
   "outputs": [],
   "source": [
    "cols=tab.columns\n",
    "\n",
    "X=tab.loc[:,[cols[1],cols[3],cols[5],cols[7],cols[8],cols[9],cols[10],cols[11],cols[12],cols[13],cols[14], cols[15]]]\n",
    "y=tab['pr_bin']"
   ]
  },
  {
   "cell_type": "markdown",
   "id": "2daccc2e",
   "metadata": {},
   "source": [
    "## Aplicar el árbol"
   ]
  },
  {
   "cell_type": "code",
   "execution_count": 11,
   "id": "ac59eedb",
   "metadata": {},
   "outputs": [],
   "source": [
    "X_train, X_test, y_train, y_test = train_test_split(X, y,test_size=0.2,stratify=y)\n"
   ]
  },
  {
   "cell_type": "code",
   "execution_count": 12,
   "id": "0b3e4f8a",
   "metadata": {},
   "outputs": [
    {
     "data": {
      "text/plain": [
       "DecisionTreeClassifier(max_depth=5, random_state=52)"
      ]
     },
     "execution_count": 12,
     "metadata": {},
     "output_type": "execute_result"
    }
   ],
   "source": [
    "dt = DecisionTreeClassifier(criterion=\"gini\", max_depth=5,splitter='best', min_samples_split=2, min_samples_leaf=1,random_state=52)\n",
    "dt.fit(X_train,y_train)"
   ]
  },
  {
   "cell_type": "code",
   "execution_count": 13,
   "id": "67e30456",
   "metadata": {},
   "outputs": [
    {
     "data": {
      "image/png": "[encoded data removed]",
      "text/plain": [
       "<Figure size 864x432 with 2 Axes>"
      ]
     },
     "metadata": {
      "needs_background": "light"
     },
     "output_type": "display_data"
    }
   ],
   "source": [
    "LABELS = ['Bueno', 'Malo']\n",
    "tree_perf = performance_evaluation_report(dt, X_test,y_test, labels=LABELS,show_plot=True)"
   ]
  },
  {
   "cell_type": "code",
   "execution_count": 14,
   "id": "cb4d84e0",
   "metadata": {},
   "outputs": [],
   "source": [
    "from sklearn.model_selection import (GridSearchCV, cross_val_score,\n",
    "                                                 RandomizedSearchCV,\n",
    "                                                 cross_validate,\n",
    "                                                 StratifiedKFold)"
   ]
  },
  {
   "cell_type": "code",
   "execution_count": null,
   "id": "26764095",
   "metadata": {},
   "outputs": [],
   "source": []
  }
 ],
 "metadata": {
  "kernelspec": {
   "display_name": "Python 3",
   "language": "python",
   "name": "python3"
  },
  "language_info": {
   "codemirror_mode": {
    "name": "ipython",
    "version": 3
   },
   "file_extension": ".py",
   "mimetype": "text/x-python",
   "name": "python",
   "nbconvert_exporter": "python",
   "pygments_lexer": "ipython3",
   "version": "3.8.8"
  },
  "widgets": {
   "application/vnd.jupyter.widget-state+json": {
    "state": {},
    "version_major": 2,
    "version_minor": 0
   }
  }
 },
 "nbformat": 4,
 "nbformat_minor": 5
}
