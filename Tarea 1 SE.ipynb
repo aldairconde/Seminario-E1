{
 "cells": [
  {
   "cell_type": "code",
   "execution_count": 15,
   "id": "eb9d4dbf",
   "metadata": {},
   "outputs": [],
   "source": [
    "import pandas as pd\n",
    "import numpy as np\n",
    "\n",
    "\n",
    "datos_ext='base_ini_externa.txt'\n",
    "datos_int='base_ini_interna.csv'\n",
    "datos_pt1='base_ini_parte1.csv'\n",
    "datos_comp3='base_comportamiento_3.csv'\n",
    "datos_comp2='base_comportamiento_2.txt'\n",
    "datos_inicio='bd_inicio_parte1.txt'\n",
    "datos_inv='base_inversion.txt'\n",
    "\n",
    "b_comp3=pd.read_csv(datos_comp3)\n",
    "b_comp2=pd.read_csv(datos_comp2,delimiter=' ')\n",
    "b_inicio=pd.read_csv(datos_inicio,delimiter=' ')\n",
    "b_int=pd.read_csv(datos_int)\n",
    "b_ext=pd.read_csv(datos_ext,delimiter=' ')\n",
    "b_pt1=pd.read_csv(datos_pt1)\n",
    "b_inv=pd.read_csv(datos_inv,delimiter=' ')\n",
    "\n",
    "\n",
    "#print(b_comp3.head(2))\n",
    "#print(b_comp2.head(2))\n",
    "#print(b_inicio.head(2),'\\n',b_int.head(2),'\\n',b_ext.head(2),'\\n',b_pt1.head(2),'\\n',b_inv.head(2))\n"
   ]
  },
  {
   "cell_type": "markdown",
   "id": "ea2b299a",
   "metadata": {},
   "source": [
    "unir las bases de las variables"
   ]
  },
  {
   "cell_type": "code",
   "execution_count": 16,
   "id": "a533211e",
   "metadata": {},
   "outputs": [
    {
     "data": {
      "text/html": [
       "<div>\n",
       "<style scoped>\n",
       "    .dataframe tbody tr th:only-of-type {\n",
       "        vertical-align: middle;\n",
       "    }\n",
       "\n",
       "    .dataframe tbody tr th {\n",
       "        vertical-align: top;\n",
       "    }\n",
       "\n",
       "    .dataframe thead th {\n",
       "        text-align: right;\n",
       "    }\n",
       "</style>\n",
       "<table border=\"1\" class=\"dataframe\">\n",
       "  <thead>\n",
       "    <tr style=\"text-align: right;\">\n",
       "      <th></th>\n",
       "      <th>_id_</th>\n",
       "      <th>comp_interno4_x</th>\n",
       "      <th>fecha_inicio</th>\n",
       "      <th>comp_interno1</th>\n",
       "      <th>comp_interno2</th>\n",
       "      <th>comp_interno3</th>\n",
       "      <th>comp_interno4_y</th>\n",
       "      <th>categoria1</th>\n",
       "      <th>categoria2</th>\n",
       "      <th>categoria3</th>\n",
       "      <th>comp_externo1</th>\n",
       "      <th>comp_externo2</th>\n",
       "      <th>comp_externo3</th>\n",
       "      <th>comp_externo4</th>\n",
       "      <th>_id2_</th>\n",
       "      <th>comp_mixto1</th>\n",
       "      <th>inversion</th>\n",
       "    </tr>\n",
       "    <tr>\n",
       "      <th>num_caso</th>\n",
       "      <th></th>\n",
       "      <th></th>\n",
       "      <th></th>\n",
       "      <th></th>\n",
       "      <th></th>\n",
       "      <th></th>\n",
       "      <th></th>\n",
       "      <th></th>\n",
       "      <th></th>\n",
       "      <th></th>\n",
       "      <th></th>\n",
       "      <th></th>\n",
       "      <th></th>\n",
       "      <th></th>\n",
       "      <th></th>\n",
       "      <th></th>\n",
       "      <th></th>\n",
       "    </tr>\n",
       "  </thead>\n",
       "  <tbody>\n",
       "    <tr>\n",
       "      <th>1</th>\n",
       "      <td>1</td>\n",
       "      <td>67.0</td>\n",
       "      <td>2016-03-31</td>\n",
       "      <td>3039.513678</td>\n",
       "      <td>b'1'</td>\n",
       "      <td>26.0</td>\n",
       "      <td>67.0</td>\n",
       "      <td>3.0</td>\n",
       "      <td>3.0</td>\n",
       "      <td>171.0</td>\n",
       "      <td>217.391304</td>\n",
       "      <td>21.545533</td>\n",
       "      <td>102.0</td>\n",
       "      <td>-230.0</td>\n",
       "      <td>23</td>\n",
       "      <td>0.3800</td>\n",
       "      <td>52.50049</td>\n",
       "    </tr>\n",
       "    <tr>\n",
       "      <th>7</th>\n",
       "      <td>7</td>\n",
       "      <td>75.0</td>\n",
       "      <td>2016-01-19</td>\n",
       "      <td>1547.112462</td>\n",
       "      <td>b'1'</td>\n",
       "      <td>28.0</td>\n",
       "      <td>75.0</td>\n",
       "      <td>1.0</td>\n",
       "      <td>11.0</td>\n",
       "      <td>173.0</td>\n",
       "      <td>468.115942</td>\n",
       "      <td>21.674806</td>\n",
       "      <td>108.0</td>\n",
       "      <td>-230.0</td>\n",
       "      <td>161</td>\n",
       "      <td>0.3336</td>\n",
       "      <td>0.04748</td>\n",
       "    </tr>\n",
       "  </tbody>\n",
       "</table>\n",
       "</div>"
      ],
      "text/plain": [
       "          _id_  comp_interno4_x fecha_inicio  comp_interno1 comp_interno2  \\\n",
       "num_caso                                                                    \n",
       "1            1             67.0   2016-03-31    3039.513678          b'1'   \n",
       "7            7             75.0   2016-01-19    1547.112462          b'1'   \n",
       "\n",
       "          comp_interno3  comp_interno4_y  categoria1  categoria2  categoria3  \\\n",
       "num_caso                                                                       \n",
       "1                  26.0             67.0         3.0         3.0       171.0   \n",
       "7                  28.0             75.0         1.0        11.0       173.0   \n",
       "\n",
       "          comp_externo1  comp_externo2  comp_externo3  comp_externo4  _id2_  \\\n",
       "num_caso                                                                      \n",
       "1            217.391304      21.545533          102.0         -230.0     23   \n",
       "7            468.115942      21.674806          108.0         -230.0    161   \n",
       "\n",
       "          comp_mixto1  inversion  \n",
       "num_caso                          \n",
       "1              0.3800   52.50049  \n",
       "7              0.3336    0.04748  "
      ]
     },
     "execution_count": 16,
     "metadata": {},
     "output_type": "execute_result"
    }
   ],
   "source": [
    "merge_t = b_inicio.merge( b_int, on=\"_id_\").merge(b_ext, on='_id_').merge(b_pt1, on='_id_').merge(b_inv,on='_id2_')\n",
    "merge_t['num_caso']=merge_t['_id_']\n",
    "merge_t=merge_t.set_index('num_caso')\n",
    "#merge_t=merge_t.dropna()\n",
    "merge_t=merge_t.sort_values(by=['_id_'])\n",
    "\n",
    "merge_t.head(2)"
   ]
  },
  {
   "cell_type": "code",
   "execution_count": 17,
   "id": "3ded88c9",
   "metadata": {
    "scrolled": true
   },
   "outputs": [],
   "source": [
    "comportamiento=pd.merge(b_comp3,b_comp2, how='outer', left_index=True, right_index=True)  #unimos las bases de comportamiento\n",
    "comportamiento=comportamiento.drop(['mes_informacion_y'], axis=1)\n",
    "comportamiento=comportamiento.rename(columns={\"num_caso_x\": \"_id_\",'num_caso_y':'num_caso'})\n"
   ]
  },
  {
   "cell_type": "code",
   "execution_count": 18,
   "id": "2e01f885",
   "metadata": {},
   "outputs": [
    {
     "data": {
      "text/html": [
       "<div>\n",
       "<style scoped>\n",
       "    .dataframe tbody tr th:only-of-type {\n",
       "        vertical-align: middle;\n",
       "    }\n",
       "\n",
       "    .dataframe tbody tr th {\n",
       "        vertical-align: top;\n",
       "    }\n",
       "\n",
       "    .dataframe thead th {\n",
       "        text-align: right;\n",
       "    }\n",
       "</style>\n",
       "<table border=\"1\" class=\"dataframe\">\n",
       "  <thead>\n",
       "    <tr style=\"text-align: right;\">\n",
       "      <th></th>\n",
       "      <th>_id_</th>\n",
       "      <th>mes_informacion_x</th>\n",
       "      <th>comportamiento_j</th>\n",
       "      <th>num_caso</th>\n",
       "      <th>Tiempo_aparicion</th>\n",
       "    </tr>\n",
       "  </thead>\n",
       "  <tbody>\n",
       "    <tr>\n",
       "      <th>0</th>\n",
       "      <td>1</td>\n",
       "      <td>2016-04-01 00:00:00</td>\n",
       "      <td>0.0</td>\n",
       "      <td>1</td>\n",
       "      <td>0.0</td>\n",
       "    </tr>\n",
       "    <tr>\n",
       "      <th>1</th>\n",
       "      <td>1</td>\n",
       "      <td>2016-05-01 00:00:00</td>\n",
       "      <td>0.0</td>\n",
       "      <td>1</td>\n",
       "      <td>1.0</td>\n",
       "    </tr>\n",
       "    <tr>\n",
       "      <th>2</th>\n",
       "      <td>1</td>\n",
       "      <td>2016-06-01 00:00:00</td>\n",
       "      <td>0.0</td>\n",
       "      <td>1</td>\n",
       "      <td>2.0</td>\n",
       "    </tr>\n",
       "    <tr>\n",
       "      <th>3</th>\n",
       "      <td>1</td>\n",
       "      <td>2016-07-01 00:00:00</td>\n",
       "      <td>0.0</td>\n",
       "      <td>1</td>\n",
       "      <td>3.0</td>\n",
       "    </tr>\n",
       "    <tr>\n",
       "      <th>4</th>\n",
       "      <td>1</td>\n",
       "      <td>2016-08-01 00:00:00</td>\n",
       "      <td>0.0</td>\n",
       "      <td>1</td>\n",
       "      <td>4.0</td>\n",
       "    </tr>\n",
       "  </tbody>\n",
       "</table>\n",
       "</div>"
      ],
      "text/plain": [
       "   _id_    mes_informacion_x  comportamiento_j  num_caso  Tiempo_aparicion\n",
       "0     1  2016-04-01 00:00:00               0.0         1               0.0\n",
       "1     1  2016-05-01 00:00:00               0.0         1               1.0\n",
       "2     1  2016-06-01 00:00:00               0.0         1               2.0\n",
       "3     1  2016-07-01 00:00:00               0.0         1               3.0\n",
       "4     1  2016-08-01 00:00:00               0.0         1               4.0"
      ]
     },
     "execution_count": 18,
     "metadata": {},
     "output_type": "execute_result"
    }
   ],
   "source": [
    "comportamiento.head()"
   ]
  },
  {
   "cell_type": "code",
   "execution_count": 19,
   "id": "743c6685",
   "metadata": {},
   "outputs": [],
   "source": [
    "#agrupar el comportamiento por num caso\n",
    "comp=comportamiento.groupby(['num_caso'])\n",
    "pr=comp.sum()/comp.count()   #promedio de atrasos en el pago en determinado tiempo"
   ]
  },
  {
   "cell_type": "code",
   "execution_count": 20,
   "id": "01ab01c1",
   "metadata": {},
   "outputs": [
    {
     "data": {
      "text/html": [
       "<div>\n",
       "<style scoped>\n",
       "    .dataframe tbody tr th:only-of-type {\n",
       "        vertical-align: middle;\n",
       "    }\n",
       "\n",
       "    .dataframe tbody tr th {\n",
       "        vertical-align: top;\n",
       "    }\n",
       "\n",
       "    .dataframe thead th {\n",
       "        text-align: right;\n",
       "    }\n",
       "</style>\n",
       "<table border=\"1\" class=\"dataframe\">\n",
       "  <thead>\n",
       "    <tr style=\"text-align: right;\">\n",
       "      <th></th>\n",
       "      <th>Tiempo_aparicion</th>\n",
       "      <th>_id_</th>\n",
       "      <th>comportamiento_j</th>\n",
       "      <th>mes_informacion_x</th>\n",
       "    </tr>\n",
       "    <tr>\n",
       "      <th>num_caso</th>\n",
       "      <th></th>\n",
       "      <th></th>\n",
       "      <th></th>\n",
       "      <th></th>\n",
       "    </tr>\n",
       "  </thead>\n",
       "  <tbody>\n",
       "    <tr>\n",
       "      <th>1</th>\n",
       "      <td>30.5</td>\n",
       "      <td>1.0</td>\n",
       "      <td>0.112903</td>\n",
       "      <td>NaN</td>\n",
       "    </tr>\n",
       "    <tr>\n",
       "      <th>7</th>\n",
       "      <td>14.0</td>\n",
       "      <td>7.0</td>\n",
       "      <td>0.827586</td>\n",
       "      <td>NaN</td>\n",
       "    </tr>\n",
       "  </tbody>\n",
       "</table>\n",
       "</div>"
      ],
      "text/plain": [
       "          Tiempo_aparicion  _id_  comportamiento_j  mes_informacion_x\n",
       "num_caso                                                             \n",
       "1                     30.5   1.0          0.112903                NaN\n",
       "7                     14.0   7.0          0.827586                NaN"
      ]
     },
     "execution_count": 20,
     "metadata": {},
     "output_type": "execute_result"
    }
   ],
   "source": [
    "pr.head(2)"
   ]
  },
  {
   "cell_type": "code",
   "execution_count": 21,
   "id": "6f7c5438",
   "metadata": {},
   "outputs": [
    {
     "data": {
      "text/plain": [
       "4.857142857142857"
      ]
     },
     "execution_count": 21,
     "metadata": {},
     "output_type": "execute_result"
    }
   ],
   "source": [
    "ma=pr['comportamiento_j'].max() #la persona que se atrasó por mas tiempo\n",
    "ma"
   ]
  },
  {
   "cell_type": "code",
   "execution_count": 22,
   "id": "07750c65",
   "metadata": {},
   "outputs": [
    {
     "data": {
      "text/html": [
       "<div>\n",
       "<style scoped>\n",
       "    .dataframe tbody tr th:only-of-type {\n",
       "        vertical-align: middle;\n",
       "    }\n",
       "\n",
       "    .dataframe tbody tr th {\n",
       "        vertical-align: top;\n",
       "    }\n",
       "\n",
       "    .dataframe thead th {\n",
       "        text-align: right;\n",
       "    }\n",
       "</style>\n",
       "<table border=\"1\" class=\"dataframe\">\n",
       "  <thead>\n",
       "    <tr style=\"text-align: right;\">\n",
       "      <th></th>\n",
       "      <th>Tiempo_aparicion</th>\n",
       "      <th>_id_</th>\n",
       "      <th>comportamiento_j</th>\n",
       "      <th>mes_informacion_x</th>\n",
       "    </tr>\n",
       "    <tr>\n",
       "      <th>num_caso</th>\n",
       "      <th></th>\n",
       "      <th></th>\n",
       "      <th></th>\n",
       "      <th></th>\n",
       "    </tr>\n",
       "  </thead>\n",
       "  <tbody>\n",
       "    <tr>\n",
       "      <th>98987</th>\n",
       "      <td>0.5</td>\n",
       "      <td>98987</td>\n",
       "      <td>0.0</td>\n",
       "      <td>NaN</td>\n",
       "    </tr>\n",
       "    <tr>\n",
       "      <th>98988</th>\n",
       "      <td>0.5</td>\n",
       "      <td>98988</td>\n",
       "      <td>0.0</td>\n",
       "      <td>NaN</td>\n",
       "    </tr>\n",
       "    <tr>\n",
       "      <th>98990</th>\n",
       "      <td>0.5</td>\n",
       "      <td>98990</td>\n",
       "      <td>0.0</td>\n",
       "      <td>NaN</td>\n",
       "    </tr>\n",
       "    <tr>\n",
       "      <th>98992</th>\n",
       "      <td>0.5</td>\n",
       "      <td>98992</td>\n",
       "      <td>0.0</td>\n",
       "      <td>NaN</td>\n",
       "    </tr>\n",
       "    <tr>\n",
       "      <th>98997</th>\n",
       "      <td>0.5</td>\n",
       "      <td>98997</td>\n",
       "      <td>0.0</td>\n",
       "      <td>NaN</td>\n",
       "    </tr>\n",
       "  </tbody>\n",
       "</table>\n",
       "</div>"
      ],
      "text/plain": [
       "          Tiempo_aparicion   _id_  comportamiento_j  mes_informacion_x\n",
       "num_caso                                                              \n",
       "98987                  0.5  98987               0.0                NaN\n",
       "98988                  0.5  98988               0.0                NaN\n",
       "98990                  0.5  98990               0.0                NaN\n",
       "98992                  0.5  98992               0.0                NaN\n",
       "98997                  0.5  98997               0.0                NaN"
      ]
     },
     "execution_count": 22,
     "metadata": {},
     "output_type": "execute_result"
    }
   ],
   "source": [
    "pr=pr.sort_values(by=['_id_'])#ordenar por id\n",
    "pr['_id_']=pr['_id_'].astype(int)\n",
    "pr.tail()"
   ]
  },
  {
   "cell_type": "code",
   "execution_count": 24,
   "id": "dbd03dd2",
   "metadata": {},
   "outputs": [
    {
     "name": "stdout",
     "output_type": "stream",
     "text": [
      "17536 1455536 49352\n"
     ]
    }
   ],
   "source": [
    "print(len(merge_t['_id_']),len(comportamiento['num_caso']),len(pr['_id_']))"
   ]
  },
  {
   "cell_type": "code",
   "execution_count": 25,
   "id": "b0b614f3",
   "metadata": {},
   "outputs": [],
   "source": [
    "pr['prom_norm']=1-pr['comportamiento_j']**2/ma**2  #normalizamos y ordenamos promedio de atrasos en el pago por tiempo determinado tiempo\n",
    "pr['pr_bin']=pr['prom_norm']                   #copiamos la columna\n",
    "pr.loc[pr['prom_norm']>=0.5,'pr_bin']=1    # Le asignamos 0 o 1 según su pormedio de atraso normalizado\n",
    "pr.loc[pr['prom_norm']<0.5,'pr_bin']=0"
   ]
  },
  {
   "cell_type": "code",
   "execution_count": 26,
   "id": "9c0f803d",
   "metadata": {},
   "outputs": [],
   "source": [
    "tab=merge_t.merge(pr,on='_id_', how=\"right\")   #unimos promedio de atraso y las variales"
   ]
  },
  {
   "cell_type": "code",
   "execution_count": 27,
   "id": "a4f6e58a",
   "metadata": {},
   "outputs": [
    {
     "data": {
      "text/plain": [
       "0    0.999460\n",
       "1    0.970969\n",
       "2    0.999829\n",
       "3    1.000000\n",
       "4    0.999834\n",
       "Name: prom_norm, dtype: float64"
      ]
     },
     "execution_count": 27,
     "metadata": {},
     "output_type": "execute_result"
    }
   ],
   "source": [
    "tab['prom_norm'].head()"
   ]
  },
  {
   "cell_type": "code",
   "execution_count": 35,
   "id": "dd8e90d3",
   "metadata": {},
   "outputs": [
    {
     "name": "stderr",
     "output_type": "stream",
     "text": [
      "No handles with labels found to put in legend.\n"
     ]
    },
    {
     "data": {
      "image/png": "[encoded data removed]",
      "text/plain": [
       "<Figure size 792x504 with 1 Axes>"
      ]
     },
     "metadata": {
      "needs_background": "light"
     },
     "output_type": "display_data"
    }
   ],
   "source": [
    "import matplotlib.pyplot as plt\n",
    "fig, ax = plt.subplots( figsize=[11, 7])\n",
    "plt.title('buen cliente vs inversion en escala logarítmica')\n",
    "plt.xlabel('inversión')\n",
    "plt.ylabel('ser buen cliente del 1 al 0')\n",
    "ax.scatter(tab['categoria2'],tab['prom_norm'],color='#00ff44')\n",
    "#plt.axvline(x=60, linestyle = '--')\n",
    "#ax.plot([1,3,5,2],[1,3,5,2],color='#00ff44')\n",
    "plt.grid()\n",
    "#plt.xscale('log')\n",
    "ax.legend(loc='upper right',fontsize=12)\n",
    "plt.show()"
   ]
  }
 ],
 "metadata": {
  "kernelspec": {
   "display_name": "Python 3",
   "language": "python",
   "name": "python3"
  },
  "language_info": {
   "codemirror_mode": {
    "name": "ipython",
    "version": 3
   },
   "file_extension": ".py",
   "mimetype": "text/x-python",
   "name": "python",
   "nbconvert_exporter": "python",
   "pygments_lexer": "ipython3",
   "version": "3.8.8"
  }
 },
 "nbformat": 4,
 "nbformat_minor": 5
}
